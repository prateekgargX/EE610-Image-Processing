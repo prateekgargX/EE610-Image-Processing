{
  "nbformat": 4,
  "nbformat_minor": 0,
  "metadata": {
    "colab": {
      "provenance": []
    },
    "kernelspec": {
      "name": "python3",
      "display_name": "Python 3"
    },
    "language_info": {
      "name": "python"
    }
  },
  "cells": [
    {
      "cell_type": "markdown",
      "source": [
        "## Assignment-1"
      ],
      "metadata": {
        "id": "LRlhN7ElBn_-"
      }
    },
    {
      "cell_type": "code",
      "execution_count": null,
      "metadata": {
        "id": "yK6Ox28OogUO"
      },
      "outputs": [],
      "source": [
        "import cv2\n",
        "import numpy as np\n",
        "from google.colab.patches import cv2_imshow\n",
        "import matplotlib.pyplot as plt\n",
        "from skimage import exposure"
      ]
    },
    {
      "cell_type": "code",
      "source": [
        "## Read an image of your own in jpg format\n",
        "\n",
        "file_path=\"pic.jpg\"\n",
        "my_image = cv2.imread(file_path)"
      ],
      "metadata": {
        "id": "V_R6rHhVpyD8"
      },
      "execution_count": null,
      "outputs": []
    },
    {
      "cell_type": "code",
      "source": [
        "## Display the image and print its shape and comment on what the dimensions correspond to\n",
        "\n",
        "# cv2.imshow(\"Me\",my_image) disabled in colab.\n",
        "cv2_imshow(my_image)\n",
        "print(my_image.shape)\n",
        "# (480, 640, 3) : 480 represents height(y), 640 represents width(x), 3 represents depth(No. of channels)"
      ],
      "metadata": {
        "id": "IsSzZ8WdqklS"
      },
      "execution_count": null,
      "outputs": []
    },
    {
      "cell_type": "code",
      "source": [
        "## Print the pixel intensities of a small section of the main image, check how various ranges are addressed, and comment on where the origin of the image is\n",
        "\n",
        "print(my_image[0:5,0:5,:])\n",
        "#the origin of image is top-right corner"
      ],
      "metadata": {
        "id": "ztj-8wWYtC0a"
      },
      "execution_count": null,
      "outputs": []
    },
    {
      "cell_type": "code",
      "source": [
        "## Overwrite the values in the small window with 255 and display the new image and comment on what you observe\n",
        "\n",
        "# to observe the effect better, a lrager window has been chosen\n",
        "my_image[0:100,0:100,:]=255\n",
        "cv2_imshow(my_image)\n",
        "# the overwritten area becomes white"
      ],
      "metadata": {
        "id": "R3JyqFwxuI1H"
      },
      "execution_count": null,
      "outputs": []
    },
    {
      "cell_type": "code",
      "source": [
        "## Overwrite the values in the small window with 256 and display the new image and comment on what you observe\n",
        "\n",
        "my_image[0:100,0:100,:]=256\n",
        "cv2_imshow(my_image)\n",
        "# the overwritten area becomes black, possibly because of overflow."
      ],
      "metadata": {
        "id": "VnPdcgpXu8Kr"
      },
      "execution_count": null,
      "outputs": []
    },
    {
      "cell_type": "code",
      "source": [
        "## Crop a margin of a few pixels from all four sides and store the cropped image in a new image array, and display the cropped image\n",
        "\n",
        "margin = 20\n",
        "my_image_2 = my_image[margin:-margin,margin:-margin,:]\n",
        "cv2_imshow(my_image_2)"
      ],
      "metadata": {
        "id": "xiZe3-qQu-5N"
      },
      "execution_count": null,
      "outputs": []
    },
    {
      "cell_type": "code",
      "source": [
        "## Save it as a new image file in png format\n",
        "\n",
        "cv2.imwrite(\"pic2.png\",my_image_2);"
      ],
      "metadata": {
        "id": "knZY_CaEvhUM"
      },
      "execution_count": null,
      "outputs": []
    },
    {
      "cell_type": "code",
      "source": [
        "## Add 50 to all the pixel values of the original image, display the new image and comment on the results\n",
        "\n",
        "my_image+=50\n",
        "cv2_imshow(my_image)\n",
        "# The image seems to brighter. The places where the color chnaged dramatically suffered overfows "
      ],
      "metadata": {
        "id": "JBkogyNzwYXT"
      },
      "execution_count": null,
      "outputs": []
    },
    {
      "cell_type": "code",
      "source": [
        "## Invert the y-axis to create a mirror image and display it.\n",
        "\n",
        "my_image = np.flip(my_image,0)\n",
        "cv2_imshow(my_image)"
      ],
      "metadata": {
        "id": "VufezoZrw7rk"
      },
      "execution_count": null,
      "outputs": []
    },
    {
      "cell_type": "code",
      "source": [
        "## Take a night shot of your own, convert it to greyscale, and display its histogram.\n",
        "\n",
        "file_path2 = \"pic1.jpg\"\n",
        "my_image_3 = cv2.imread(file_path2)\n",
        "gray_image_3 = cv2.cvtColor(my_image_3, cv2.COLOR_BGR2GRAY)\n",
        "cv2_imshow(gray_image_3)\n",
        "\n",
        "# plot histogram with 255 bins\n",
        "plt.hist(my_image_3.flatten(), 255,density=True)\n",
        "plt.xlim([0,255])\n",
        "plt.show()"
      ],
      "metadata": {
        "id": "2BJzny07yrxX"
      },
      "execution_count": null,
      "outputs": []
    },
    {
      "cell_type": "code",
      "source": [
        "## Brighten the image by multiplying pixel values with a>1, and find a good value of a\n",
        "bright_a_image = np.array(gray_image_3)\n",
        "\n",
        "for a in [1.1,1.4,1.5,1.6,1.7, 2.2, 2.5]:\n",
        "  bright_a_image = a*gray_image_3\n",
        "  cv2_imshow(bright_a_image);\n",
        "# a = 1.7 seems to be a good value."
      ],
      "metadata": {
        "id": "ddqtRRHxLJSp"
      },
      "execution_count": null,
      "outputs": []
    },
    {
      "cell_type": "code",
      "source": [
        "## Try to enhance it using power transform and find the best power.\n",
        "gamma_corrected = np.array(gray_image_3)\n",
        "for gamma in [0.1,0.4,0.5,0.6,0.7, 1.2, 2.2]:\n",
        "    cv2.intensity_transform.gammaCorrection(gray_image_3,gamma_corrected,gamma)  # = np.array(255*(gray_image_3 / 255) ** gamma, dtype = 'uint8')\n",
        "    cv2_imshow(gamma_corrected)\n",
        "# gamma = 0.6 seems to be a good value."
      ],
      "metadata": {
        "id": "3l6ud8OT2GfZ"
      },
      "execution_count": null,
      "outputs": []
    },
    {
      "cell_type": "code",
      "source": [
        "## Perform histogram equalization to enhance it and display the histogram. Comment on why the histogram is not flat\n",
        "new_image = cv2.equalizeHist(gray_image_3)\n",
        "cv2_imshow(new_image) \n",
        "plt.hist(new_image.flatten(), 255,density=True)  \n",
        "plt.xlim([0,255])\n",
        "plt.show()    \n",
        "# In theory, when working with continuous ranges, we have infinite number of points to fill in any interval.\n",
        "# when working with discrete pixels, the number of pixel values in a particular range doesn't change when a range is transformed.\n",
        "# We can also observe that new histogram looks as if the older histogram is streched along x-axis."
      ],
      "metadata": {
        "id": "I-DPxLWr-9Dt"
      },
      "execution_count": null,
      "outputs": []
    },
    {
      "cell_type": "code",
      "source": [
        "## Think of a good target histogram and do histogram specification (histogram matching).\n",
        "\n",
        "# We choose the histogram of original photo converted to gray-scale as the specified histogram \n",
        "gray_image_1 = cv2.cvtColor(cv2.imread(file_path), cv2.COLOR_BGR2GRAY)\n",
        "cv2_imshow(gray_image_1)\n",
        "plt.hist(gray_image_1.flatten(), 255,density=True)  \n",
        "plt.xlim([0,255])\n",
        "plt.show()   \n",
        "\n",
        "matched = exposure.match_histograms(gray_image_3, gray_image_1, multichannel=False)\n",
        "# show the output image\n",
        "cv2_imshow(matched)\n",
        "plt.hist(matched.flatten(), 255,density=True)  \n",
        "plt.xlim([0,255])\n",
        "plt.show()\n",
        "\n",
        "\n"
      ],
      "metadata": {
        "id": "p5tnVw48Qweu"
      },
      "execution_count": null,
      "outputs": []
    },
    {
      "cell_type": "markdown",
      "source": [
        "# References:\n",
        "\n",
        "[1] [OpenCV-Gamma-Correction](https://docs.opencv.org/4.x/dc/dfe/group__intensity__transform.html#gaec85454c2cd29f2440fefd55d609e682)\n",
        "\n",
        "[2] [Numpy Flip](https://numpy.org/doc/stable/reference/generated/numpy.flip.html)\n",
        "\n",
        "[3] [OpenCV-Histogram-Equalization](https://docs.opencv.org/3.4/d4/d1b/tutorial_histogram_equalization.html#:~:text=What%20is%20Histogram%20Equalization%3F,the%20available%20range%20of%20intensities.)\n",
        "\n",
        "[4] [Histogram Matching](https://pyimagesearch.com/2021/02/08/histogram-matching-with-opencv-scikit-image-and-python/)"
      ],
      "metadata": {
        "id": "bV2qaaMV3BXj"
      }
    },
    {
      "cell_type": "code",
      "source": [],
      "metadata": {
        "id": "yrho2M9K-7um"
      },
      "execution_count": null,
      "outputs": []
    }
  ]
}